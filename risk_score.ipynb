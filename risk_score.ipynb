{
  "nbformat": 4,
  "nbformat_minor": 0,
  "metadata": {
    "accelerator": "GPU",
    "colab": {
      "name": "risk_score.ipynb",
      "provenance": [],
      "collapsed_sections": [],
      "include_colab_link": true
    },
    "kernelspec": {
      "display_name": "Python 3",
      "language": "python",
      "name": "python3"
    },
    "language_info": {
      "codemirror_mode": {
        "name": "ipython",
        "version": 3
      },
      "file_extension": ".py",
      "mimetype": "text/x-python",
      "name": "python",
      "nbconvert_exporter": "python",
      "pygments_lexer": "ipython3",
      "version": "3.7.4"
    }
  },
  "cells": [
    {
      "cell_type": "markdown",
      "metadata": {
        "id": "view-in-github",
        "colab_type": "text"
      },
      "source": [
        "<a href=\"https://colab.research.google.com/github/AaronLingzhe/drive/blob/master/risk_score.ipynb\" target=\"_parent\"><img src=\"https://colab.research.google.com/assets/colab-badge.svg\" alt=\"Open In Colab\"/></a>"
      ]
    },
    {
      "cell_type": "markdown",
      "metadata": {
        "colab_type": "text",
        "id": "CF44IgKynVV-"
      },
      "source": [
        "# Identify Disenrolled Member\n",
        "\n",
        "The purpose of this project is to identify members who are likely to terminate their insurance plan, in order to prevent the loss of members. Note that the lost members  we want to prevent are the voluntarily disenrolled members. \n",
        "The people who are not suitable for this program (involuntarily disenroll) are not target members. Details will be discussed in the following sections. \n",
        "\n",
        "We first import necessary packages and load the raw data."
      ]
    },
    {
      "cell_type": "code",
      "metadata": {
        "colab_type": "code",
        "id": "EQFIACelhUGj",
        "colab": {}
      },
      "source": [
        "#packages and data loading\n",
        "import numpy as np # linear algebra\n",
        "import pandas as pd # data processing, CSV file I/O (e.g. pd.read_csv)\n",
        "import os\n",
        "from sklearn.preprocessing import LabelEncoder\n",
        "import datetime\n",
        "from sklearn.model_selection import RandomizedSearchCV, GridSearchCV#GridSearchCV\n",
        "from sklearn.metrics import roc_auc_score, recall_score, precision_score\n",
        "from google.colab import drive\n",
        "import matplotlib.pyplot as plt\n",
        "import seaborn as sns\n",
        "from sklearn.model_selection import train_test_split\n",
        "import warnings\n",
        "warnings.filterwarnings('ignore')\n",
        "\n",
        "drive.mount('/content/drive')\n",
        "data_raw=pd.read_csv(\"/content/drive/My Drive/Round2-DataScience-HomeworkData.csv\")"
      ],
      "execution_count": null,
      "outputs": []
    },
    {
      "cell_type": "markdown",
      "metadata": {
        "id": "7uTTvLaZvDEO",
        "colab_type": "text"
      },
      "source": [
        "The dataset for this project is not large. For large datasets, we should use the following process to reduce  memory usage. "
      ]
    },
    {
      "cell_type": "code",
      "metadata": {
        "colab_type": "code",
        "id": "Pmo0V7vfi3Al",
        "colab": {
          "base_uri": "https://localhost:8080/",
          "height": 51
        },
        "outputId": "effc821c-888b-44c6-fb2a-3d6700d36286"
      },
      "source": [
        "#reduce memory usage by setting the proper data structure\n",
        "def reduce_mem_usage(df):\n",
        "    \"\"\" iterate through all the columns of a dataframe and modify the data type\n",
        "        to reduce memory usage.        \n",
        "    \"\"\"\n",
        "    start_mem = df.memory_usage().sum() / 1024**2\n",
        "    print('Memory usage of dataframe is {:.2f} MB'.format(start_mem))\n",
        "    \n",
        "    for col in df.columns:\n",
        "        col_type = df[col].dtype\n",
        "        \n",
        "        if col_type != object:\n",
        "            c_min = df[col].min()\n",
        "            c_max = df[col].max()\n",
        "            if str(col_type)[:3] == 'int':\n",
        "                if c_min > np.iinfo(np.int8).min and c_max < np.iinfo(np.int8).max:\n",
        "                    df[col] = df[col].astype(np.int8)\n",
        "                elif c_min > np.iinfo(np.int16).min and c_max < np.iinfo(np.int16).max:\n",
        "                    df[col] = df[col].astype(np.int16)\n",
        "                elif c_min > np.iinfo(np.int32).min and c_max < np.iinfo(np.int32).max:\n",
        "                    df[col] = df[col].astype(np.int32)\n",
        "                elif c_min > np.iinfo(np.int64).min and c_max < np.iinfo(np.int64).max:\n",
        "                    df[col] = df[col].astype(np.int64)  \n",
        "            else:\n",
        "                if c_min > np.finfo(np.float16).min and c_max < np.finfo(np.float16).max:\n",
        "                    df[col] = df[col].astype(np.float16)\n",
        "                elif c_min > np.finfo(np.float32).min and c_max < np.finfo(np.float32).max:\n",
        "                    df[col] = df[col].astype(np.float32)\n",
        "                else:\n",
        "                    df[col] = df[col].astype(np.float64)\n",
        "        else:\n",
        "            df[col] = df[col].astype('object')\n",
        "\n",
        "    end_mem = df.memory_usage().sum() / 1024**2\n",
        "    print('Memory usage after optimization is: {:.2f} MB'.format(end_mem))\n",
        "#    print('Decreased by {:.1f}%'.format(100 * (start_mem - end_mem) / start_mem))\n",
        "    return df\n",
        "\n",
        "#apply the function on the datasets\n",
        "data_raw=reduce_mem_usage(data_raw)"
      ],
      "execution_count": 2,
      "outputs": [
        {
          "output_type": "stream",
          "text": [
            "Memory usage of dataframe is 9.99 MB\n",
            "Memory usage after optimization is: 4.33 MB\n"
          ],
          "name": "stdout"
        }
      ]
    },
    {
      "cell_type": "markdown",
      "metadata": {
        "id": "JhL9o1JnuXqq",
        "colab_type": "text"
      },
      "source": [
        "# Exploratory Data Analysis(EDA)\n",
        "\n",
        "Firstly, we have a glace on the summary of the dataset. "
      ]
    },
    {
      "cell_type": "code",
      "metadata": {
        "colab_type": "code",
        "id": "qFMxZTn9vEID",
        "colab": {
          "base_uri": "https://localhost:8080/",
          "height": 425
        },
        "outputId": "10e3ee13-1c3c-4ee0-a70e-611a6a56472a"
      },
      "source": [
        "data_raw.info()"
      ],
      "execution_count": 3,
      "outputs": [
        {
          "output_type": "stream",
          "text": [
            "<class 'pandas.core.frame.DataFrame'>\n",
            "RangeIndex: 76995 entries, 0 to 76994\n",
            "Data columns (total 17 columns):\n",
            " #   Column              Non-Null Count  Dtype  \n",
            "---  ------              --------------  -----  \n",
            " 0   MEMBER_ID           76995 non-null  object \n",
            " 1   LOB                 76995 non-null  object \n",
            " 2   Voluntary           25206 non-null  object \n",
            " 3   churned             76995 non-null  int8   \n",
            " 4   Tenure              76995 non-null  int16  \n",
            " 5   hadGap.             76995 non-null  int8   \n",
            " 6   Age                 76995 non-null  int8   \n",
            " 7   SDOHScore           76995 non-null  float16\n",
            " 8   conditionScore      76995 non-null  float16\n",
            " 9   substanceScore      76995 non-null  float16\n",
            " 10  physFrailtyScore    76995 non-null  float16\n",
            " 11  mentalFrailtyScore  76995 non-null  float16\n",
            " 12  EDCost              66365 non-null  float32\n",
            " 13  EDCount             66365 non-null  float16\n",
            " 14  IPCost              66365 non-null  float32\n",
            " 15  IPCount             66365 non-null  float16\n",
            " 16  State               76995 non-null  object \n",
            "dtypes: float16(7), float32(2), int16(1), int8(3), object(4)\n",
            "memory usage: 4.3+ MB\n"
          ],
          "name": "stdout"
        }
      ]
    },
    {
      "cell_type": "markdown",
      "metadata": {
        "id": "iCy6PIDBuXqt",
        "colab_type": "text"
      },
      "source": [
        "We see that there are 17 features. Four features are categorical, and the other 13 are numeric. The target feature(responce) is 'churned'. Note that the feature 'MEMBER_ID' is just an index and does not contain useful information. Thus, We drop 'MEMBER_ID' in the following syntax."
      ]
    },
    {
      "cell_type": "code",
      "metadata": {
        "colab_type": "code",
        "id": "MQKmm7CBhUGr",
        "colab": {}
      },
      "source": [
        "#drop the useless id column\n",
        "data_raw.drop(['MEMBER_ID'], axis=1, inplace=True)"
      ],
      "execution_count": 4,
      "outputs": []
    },
    {
      "cell_type": "markdown",
      "metadata": {
        "colab_type": "text",
        "id": "u69UUE05vnY3"
      },
      "source": [
        "## Consider Missing Value\n",
        "\n",
        "We first show the number and the proportion of missing values for each feature."
      ]
    },
    {
      "cell_type": "code",
      "metadata": {
        "colab_type": "code",
        "id": "kdpa2ZjLvl3a",
        "colab": {
          "base_uri": "https://localhost:8080/",
          "height": 119
        },
        "outputId": "11b19724-354f-486d-82a4-d7abb66e3fda"
      },
      "source": [
        "#show missing values\n",
        "miss_number=data_raw.isnull().sum()\n",
        "miss_ratio=data_raw.isnull().sum()/len(data_raw)\n",
        "miss_info=pd.DataFrame({'Number of miss':miss_number,'Proportion of miss':miss_ratio},)\n",
        "miss_info=miss_info.loc[miss_info['Number of miss']>0]\n",
        "miss_info=miss_info.sort_values(by='Number of miss',ascending=0)\n",
        "print(miss_info[miss_info['Proportion of miss']>0])"
      ],
      "execution_count": 5,
      "outputs": [
        {
          "output_type": "stream",
          "text": [
            "           Number of miss  Proportion of miss\n",
            "Voluntary           51789            0.672628\n",
            "EDCost              10630            0.138061\n",
            "EDCount             10630            0.138061\n",
            "IPCost              10630            0.138061\n",
            "IPCount             10630            0.138061\n"
          ],
          "name": "stdout"
        }
      ]
    },
    {
      "cell_type": "markdown",
      "metadata": {
        "id": "UoRSqToOA0va",
        "colab_type": "text"
      },
      "source": [
        "From the output, we see that 5 features contain missing value and the features ('EDCost', 'EDCount', 'IPCost', 'IPCount') have same number of missing values. \n",
        "\n",
        "### The Feature 'Voluntary'\n",
        "We first consider the feature 'Voluntary' and do some analysis."
      ]
    },
    {
      "cell_type": "code",
      "metadata": {
        "colab_type": "code",
        "id": "X968zHlEy-A9",
        "colab": {
          "base_uri": "https://localhost:8080/",
          "height": 136
        },
        "outputId": "8302dcbe-1e59-44af-835d-113a39284a30"
      },
      "source": [
        "print('The number of missing value of \"Voluntary\" for disenrolled member is '+str(data_raw[data_raw['churned']==1]['Voluntary'].isna().sum()))\n",
        "print('The number of non-missing value of \"Voluntary\" for enrolled member is '+str(data_raw[data_raw['churned']==0]['Voluntary'].notna().sum()))\n",
        "print('The possible value of \"Voluntary\" and their counts are:')\n",
        "data_raw[data_raw['churned']==1]['Voluntary'].value_counts()"
      ],
      "execution_count": 6,
      "outputs": [
        {
          "output_type": "stream",
          "text": [
            "The number of missing value of \"Voluntary\" for disenrolled member is 0\n",
            "The number of non-missing value of \"Voluntary\" for enrolled member is 0\n",
            "The possible value of \"Voluntary\" and their counts are:\n"
          ],
          "name": "stdout"
        },
        {
          "output_type": "execute_result",
          "data": {
            "text/plain": [
              "Voluntary                         14343\n",
              "Involuntary - Medicare / Other     5784\n",
              "Involuntary - SNP                  5079\n",
              "Name: Voluntary, dtype: int64"
            ]
          },
          "metadata": {
            "tags": []
          },
          "execution_count": 6
        }
      ]
    },
    {
      "cell_type": "markdown",
      "metadata": {
        "colab_type": "text",
        "id": "T6E-6PSYIZ2n"
      },
      "source": [
        "From the output, we can see that all the disenrolled member have information about whether or not he/she is disenrooled voluntarily. In another word, there is not actual missing value for the feature 'Voluntary'. Also, we can see that there is not any mis-type value for the feature 'Voluntary', when the member is enrolled.\n",
        "\n",
        "We can see that there are three possible reasons when a member disenrolls. One is voluntary, the other two are involuntary. The purpose of identifying voluntary members and involuntary members are different. We need to identify the involuntary disenrolled member to transfer them to a more suitable plan in order to reduce the risk cost for this program. The purpose of finding voluntary disenrolled members is to take action in order to keep them in the program. \n",
        "\n",
        "The motivation of this project is to deal with the issue of \"losing valuable members\". Thus, we should only consider voluntarily disenrolled members as our target. If the motivation is to reduce/avoid the risk cost, then we need to set the involuntary member as a target. \n"
      ]
    },
    {
      "cell_type": "markdown",
      "metadata": {
        "id": "lmKkkbMxBfES",
        "colab_type": "text"
      },
      "source": [
        "### The other four features that contain missing value\n",
        "The following syntax shows some analysis about the features ('EDCost', 'EDCount', 'IPCost', 'IPCount'). "
      ]
    },
    {
      "cell_type": "code",
      "metadata": {
        "colab_type": "code",
        "id": "KJw0y0xTwhtk",
        "colab": {
          "base_uri": "https://localhost:8080/",
          "height": 272
        },
        "outputId": "03a3c989-92db-4f64-a970-74155c35daa8"
      },
      "source": [
        "data_ED_na=data_raw[data_raw['EDCost'].isna()].copy()\n",
        "print('The possible value of \"churned\" when \"EDCost\" is missing: ' )\n",
        "print(data_ED_na['churned'].value_counts())\n",
        "print('\\n')\n",
        "print('The possible value of \"Voluntary\" when \"EDCost\" is missing: ' )\n",
        "print(data_ED_na['Voluntary'].value_counts())\n",
        "print('\\n')\n",
        "print('The number of missing value of \"EDCount\" when \"EDCost\" is missing: '+ str(data_ED_na['EDCount'].isna().sum()))\n",
        "print('The number of missing value of \"IPCost\" when \"EDCost\" is missing: '+ str(data_ED_na['IPCost'].isna().sum()))\n",
        "print('The number of missing value of \"IPCount\" when \"EDCost\" is missing: '+ str(data_ED_na['IPCount'].isna().sum()))\n",
        "#they are missing simultaniously"
      ],
      "execution_count": 7,
      "outputs": [
        {
          "output_type": "stream",
          "text": [
            "The possible value of \"churned\" when \"EDCost\" is missing: \n",
            "1    10630\n",
            "Name: churned, dtype: int64\n",
            "\n",
            "\n",
            "The possible value of \"Voluntary\" when \"EDCost\" is missing: \n",
            "Voluntary                         6632\n",
            "Involuntary - SNP                 2131\n",
            "Involuntary - Medicare / Other    1867\n",
            "Name: Voluntary, dtype: int64\n",
            "\n",
            "\n",
            "The number of missing value of \"EDCount\" when \"EDCost\" is missing: 10630\n",
            "The number of missing value of \"IPCost\" when \"EDCost\" is missing: 10630\n",
            "The number of missing value of \"IPCount\" when \"EDCost\" is missing: 10630\n"
          ],
          "name": "stdout"
        }
      ]
    },
    {
      "cell_type": "markdown",
      "metadata": {
        "colab_type": "text",
        "id": "UPGNCsuQZBKc"
      },
      "source": [
        "From the output, we can see that the features ('EDCost', 'EDCount', 'IPCost', 'IPCount') are missing simultaneously. When their value is missing, the value of 'churned' is 1, i.e. the member has disenrolled. It can be voluntarily or involuntarily. \n",
        "Therefore, the features ('EDCost', 'EDCount', 'IPCost', 'IPCount') are not missing at random. \n",
        "\n",
        "If the missing condition happens before the member disenrolls, then this information is useful. Based on that, if we lose track of a member's emergency department visits or inpatient hospital visits, he/she will disenroll most likely. \n",
        "\n",
        "If the reason for the missing values is that the members erase the values after disenroll, then we can not predict the disenroll from whether or not the values are missing. \n",
        "\n",
        "Personally, I think \"erase after disenroll\" is more reasonable. Thus in the following analysis, I will use the medium value among disenroll members to fill the missing parts when modeling. However, we need to make a note here and communicate with the data source to confirm that. \n"
      ]
    },
    {
      "cell_type": "markdown",
      "metadata": {
        "id": "8P7Jg92DCS4w",
        "colab_type": "text"
      },
      "source": [
        "## Comparison between the enrolled member and disenrolled member"
      ]
    },
    {
      "cell_type": "code",
      "metadata": {
        "colab_type": "code",
        "id": "MFF2-1VQXRA9",
        "colab": {
          "base_uri": "https://localhost:8080/",
          "height": 51
        },
        "outputId": "94175c48-6b1b-4c34-88d0-9029b8fde508"
      },
      "source": [
        "#compare\n",
        "data_disenrol=data_raw[(data_raw['churned']==1) & (data_raw['Voluntary']=='Voluntary')].copy()\n",
        "data_enrol=data_raw[data_raw['churned']==0].copy()\n",
        "print('The number of member disenroll is '+str(data_disenrol.shape[0]))\n",
        "print('The number of member enroll is '+str(data_enrol.shape[0]))"
      ],
      "execution_count": 8,
      "outputs": [
        {
          "output_type": "stream",
          "text": [
            "The number of member disenroll is 14343\n",
            "The number of member enroll is 51789\n"
          ],
          "name": "stdout"
        }
      ]
    },
    {
      "cell_type": "markdown",
      "metadata": {
        "colab_type": "text",
        "id": "5o6VtAWWqFJz"
      },
      "source": [
        "We can see that the data is imbalanced regarding 'churned'. The number of enrolled members is about 3.5 times as the number of voluntarily disenrolled people. Thus, when we measure the performance of the classification models, the Area under the ROC curve (AUC) is a more proper evaluation than just accuracy. \n",
        "\n",
        "## The distribution of different features within the enrollment group and disenrollment group. \n",
        "\n",
        "In the following section, we analyze whether different features distribute differently under the enrollment group and disenrollment group.\n",
        "\n",
        "### Numeric feature"
      ]
    },
    {
      "cell_type": "code",
      "metadata": {
        "colab_type": "code",
        "id": "dzz-kbUkhUGx",
        "colab": {
          "base_uri": "https://localhost:8080/",
          "height": 606
        },
        "outputId": "e2523710-e2d9-4edc-e310-c865d1b51524"
      },
      "source": [
        "#density plot comparison\n",
        "fig, axs = plt.subplots(3,4,figsize=(15,10))\n",
        "for i,col in enumerate(data_disenrol.select_dtypes(np.number).columns[1:]):\n",
        "  sns.distplot(data_disenrol[col], hist=False, color='b',label='disenroll', ax=axs[i//4,i%4],kde_kws=dict(linewidth=1))\n",
        "  sns.distplot(data_enrol[col], hist=False,color='r',label='enroll', ax=axs[i//4,i%4],kde_kws=dict(linewidth=1))\n",
        "  axs[i//4,i%4].set_ylabel('Density')\n",
        "plt.show()"
      ],
      "execution_count": 9,
      "outputs": [
        {
          "output_type": "display_data",
          "data": {
            "image/png": "[encoded data removed]",
            "text/plain": [
              "<Figure size 1080x720 with 12 Axes>"
            ]
          },
          "metadata": {
            "tags": [],
            "needs_background": "light"
          }
        }
      ]
    },
    {
      "cell_type": "markdown",
      "metadata": {
        "id": "zk999mpAvWwk",
        "colab_type": "text"
      },
      "source": [
        "From the density plots, we see that the distribution of 'Tenure', 'EDCost', 'SDOHScore', 'EDCost', and 'IPCost' look different under enrolled and disenrolled member. Specifically, the distribution of Number of days the member with the company ('Tenure') is obviously different between the two groups. For the enrollment group, there is a major density in around 4500 days. The reason might be the promotion when the plan first release. After that, the enrollment number grows gradually until recently. In terms of the disenrollment group, the majority is close to zero. It means that most disenrolled people are the ones that newly facing the plan. If it is recent data, the reason might be the pandemic. People are cutting costs on their new plan.\n",
        "\n",
        "Note that such cases might be a general situation. Therefore, when we take actions to prevent losing members. If the action is useful, it might be worth considering attracting the people that disenrolled from other companies' plan.\n",
        "\n",
        "\n",
        "### Category feature\n",
        "\n",
        "There are only two category features we care about: 'LOB' and 'State'. We can plot the histogram for these two features. "
      ]
    },
    {
      "cell_type": "code",
      "metadata": {
        "colab_type": "code",
        "id": "sNcEVUlphUGz",
        "colab": {
          "base_uri": "https://localhost:8080/",
          "height": 85
        },
        "outputId": "49e91450-b99b-4a6e-fcbb-c00f838146ed"
      },
      "source": [
        "# Number of unique classes in each object column\n",
        "data_raw.select_dtypes('object').apply(pd.Series.nunique, axis = 0)"
      ],
      "execution_count": 10,
      "outputs": [
        {
          "output_type": "execute_result",
          "data": {
            "text/plain": [
              "LOB          8\n",
              "Voluntary    3\n",
              "State        4\n",
              "dtype: int64"
            ]
          },
          "metadata": {
            "tags": []
          },
          "execution_count": 10
        }
      ]
    },
    {
      "cell_type": "code",
      "metadata": {
        "colab_type": "code",
        "id": "IZf2qnRJSFrh",
        "colab": {
          "base_uri": "https://localhost:8080/",
          "height": 228
        },
        "outputId": "1ef570ee-ba98-4642-f47c-7a405179c8f1"
      },
      "source": [
        "fig, axs = plt.subplots(1,2,figsize=(10,3))\n",
        "for i,col in enumerate(['LOB','State']):\n",
        "  axs[i].hist([data_disenrol[col],data_enrol[col]],label=['disenroll', 'enroll'])\n",
        "  axs[i].legend()\n",
        "  axs[i].set_xlabel(col)\n",
        "axs[0].set_ylabel('Number of members')\n",
        "plt.show()"
      ],
      "execution_count": 11,
      "outputs": [
        {
          "output_type": "display_data",
          "data": {
            "image/png": "[encoded data removed]",
            "text/plain": [
              "<Figure size 720x216 with 2 Axes>"
            ]
          },
          "metadata": {
            "tags": [],
            "needs_background": "light"
          }
        }
      ]
    },
    {
      "cell_type": "markdown",
      "metadata": {
        "id": "Vecy0vGMXZTi",
        "colab_type": "text"
      },
      "source": [
        "From the plots, we see that the Line 1 and Line 2 have major population. In terms of the states, PA has major population. If there is not a clear reason for that yet, there might be some information to dig into. If more advertisement is put in PA, then it might be the reason."
      ]
    },
    {
      "cell_type": "markdown",
      "metadata": {
        "colab_type": "text",
        "id": "aqo2a222ZaE_"
      },
      "source": [
        "# Classification Models\n",
        "\n",
        "We use logistic regression, xgboost, lightgbm and stacking them to form the final model. As mentioned before, we only consider voluntarily disenrolled members. Before building and training models, we keep 20% of the raw data as the testing data. The missing values are filled by the median from the training data. \n"
      ]
    },
    {
      "cell_type": "code",
      "metadata": {
        "colab_type": "code",
        "id": "PvmP2hSdlWfy",
        "colab": {}
      },
      "source": [
        "data_raw=pd.read_csv(\"/content/drive/My Drive/Round2-DataScience-HomeworkData.csv\")\n",
        "data_raw.drop(['MEMBER_ID'], axis=1, inplace=True)\n",
        "\n",
        "#involuntary member is not target in this project, another project is needed to identify these people.\n",
        "data_raw_adj=data_raw[(data_raw['Voluntary'].isna()) | (data_raw['Voluntary']=='Voluntary')].copy()\n",
        "\n",
        "#split into training set and testing set\n",
        "# split data into train and test sets\n",
        "test_size = 0.2\n",
        "data_train, data_test = train_test_split(data_raw_adj, test_size=test_size)"
      ],
      "execution_count": 12,
      "outputs": []
    },
    {
      "cell_type": "code",
      "metadata": {
        "colab_type": "code",
        "id": "364t-UZmZeuM",
        "colab": {}
      },
      "source": [
        "#fill missing values\n",
        "for col in ['EDCost','EDCount','IPCost','IPCount']:\n",
        "    data_train[col] = data_train[col].fillna(data_train[data_train['churned']==1][col].median())\n",
        "    data_test[col] = data_test[col].fillna(data_train[data_train['churned']==1][col].median())"
      ],
      "execution_count": 13,
      "outputs": []
    },
    {
      "cell_type": "code",
      "metadata": {
        "colab_type": "code",
        "id": "x0jrQk5XhUG1",
        "colab": {}
      },
      "source": [
        "#In this dataset, all the binary feature are in 0/1, it's good. Otherwise, we should transform binary to 0/1 with the following function.\n",
        "def labelencoder_dataframe(df):\n",
        "    for col in df.columns:\n",
        "        if len(set(df[col]))==2:\n",
        "            lbl = LabelEncoder()\n",
        "            lbl.fit(list(df[col].values.astype('str')))\n",
        "            df[col] = lbl.transform(list(df[col].values.astype('str')))\n",
        "    return df\n",
        "\n",
        "#separate feature and responds for training data\n",
        "x_train=data_train.copy()\n",
        "x_train.drop(['churned','Voluntary'], axis=1, inplace=True)\n",
        "y_train=data_train['churned']\n",
        "x_train=labelencoder_dataframe(x_train)\n",
        "#Get dummies for catigory variables.\n",
        "x_train=pd.get_dummies(x_train)\n",
        "\n",
        "#separate feature and responds for testing data\n",
        "x_test=data_test.copy()\n",
        "x_test.drop(['churned','Voluntary'], axis=1, inplace=True)\n",
        "y_test=data_test['churned']\n",
        "x_test=labelencoder_dataframe(x_test)\n",
        "#Get dummies for catigory variables.\n",
        "x_test=pd.get_dummies(x_test)"
      ],
      "execution_count": 14,
      "outputs": []
    },
    {
      "cell_type": "markdown",
      "metadata": {
        "id": "CyWVUpZdZtHm",
        "colab_type": "text"
      },
      "source": [
        "## Logistic Regression"
      ]
    },
    {
      "cell_type": "code",
      "metadata": {
        "colab_type": "code",
        "id": "bjh2X0qLhUG4",
        "colab": {}
      },
      "source": [
        "#logistic regression\n",
        "from sklearn.linear_model import LogisticRegression\n",
        "model_lr = LogisticRegression(penalty='l2')"
      ],
      "execution_count": 15,
      "outputs": []
    },
    {
      "cell_type": "markdown",
      "metadata": {
        "id": "8_M8tgrjZxs6",
        "colab_type": "text"
      },
      "source": [
        "## Xgboost"
      ]
    },
    {
      "cell_type": "code",
      "metadata": {
        "colab_type": "code",
        "id": "qHTmLQAUhUG6",
        "colab": {
          "base_uri": "https://localhost:8080/",
          "height": 204
        },
        "outputId": "d02e7f75-fc53-41ee-8eed-71927e216528"
      },
      "source": [
        "#xgboost\n",
        "import xgboost as xgb\n",
        "print('####################################################\\n{}\\start_time'.format(datetime.datetime.now().strftime('%H:%M')))\n",
        "params={\n",
        "    'n_estimators':[100,300],#100,300\n",
        "    'max_depth':[3],#,5,10\n",
        "    'learning_rate':[0.01],#0.05,0.1,0.01\n",
        "    'subsample':[0.5],#0.4,0.5,0.6,0.7,0.9\n",
        "    'tree_method':['gpu_hist']  # THE MAGICAL PARAMETER, use gpu\n",
        "        }\n",
        "\n",
        "xgb_temp = xgb.XGBClassifier()\n",
        "model_xgb_tuned = GridSearchCV(xgb_temp, params,scoring='roc_auc',cv=5)\n",
        "model_xgb_tuned.fit(x_train,y_train)\n",
        "model_xgb = xgb.XGBClassifier(**model_xgb_tuned.best_params_)\n",
        "\n",
        "print(model_xgb)\n",
        "print('{}\\tEnd_time\\n####################################################'.format(datetime.datetime.now().strftime('%H:%M')))"
      ],
      "execution_count": 16,
      "outputs": [
        {
          "output_type": "stream",
          "text": [
            "####################################################\n",
            "02:44\\start_time\n",
            "XGBClassifier(base_score=0.5, booster='gbtree', colsample_bylevel=1,\n",
            "              colsample_bynode=1, colsample_bytree=1, gamma=0,\n",
            "              learning_rate=0.01, max_delta_step=0, max_depth=3,\n",
            "              min_child_weight=1, missing=None, n_estimators=300, n_jobs=1,\n",
            "              nthread=None, objective='binary:logistic', random_state=0,\n",
            "              reg_alpha=0, reg_lambda=1, scale_pos_weight=1, seed=None,\n",
            "              silent=None, subsample=0.5, tree_method='gpu_hist', verbosity=1)\n",
            "02:44\tEnd_time\n",
            "####################################################\n"
          ],
          "name": "stdout"
        }
      ]
    },
    {
      "cell_type": "markdown",
      "metadata": {
        "id": "9XZ7WH64Z14s",
        "colab_type": "text"
      },
      "source": [
        "## LightGBM"
      ]
    },
    {
      "cell_type": "code",
      "metadata": {
        "colab_type": "code",
        "id": "NmoXeOK1kCcj",
        "colab": {
          "base_uri": "https://localhost:8080/",
          "height": 122
        },
        "outputId": "32744627-f340-44fd-eb3d-e298218030c9"
      },
      "source": [
        "#lightGBM\n",
        "from sklearn.model_selection import KFold\n",
        "import lightgbm as lgb\n",
        "import datetime\n",
        "print('####################################################\\n{}\\start_time'.format(datetime.datetime.now().strftime('%H:%M')))\n",
        "params = {'objective': ['binary'],\n",
        "          'boosting_type': [\"gbdt\"],\n",
        "          'metric': ['auc'],\n",
        "          #'verbosity': [-1],\n",
        "          'n_estimators':[100,300],#100,300\n",
        "          'feature_fraction': [0.4],#0.3,0.7,0.9,0.5,0.6\n",
        "          'bagging_fraction': [0.9],#0.5,0.7,1,0.8\n",
        "          'bagging_freq':[1],\n",
        "          'max_depth': [5],\n",
        "          'learning_rate': [0.1],#0.1,0.05\n",
        "          #'device_type':['gpu']\n",
        "         }\n",
        "\n",
        "lgb_temp = lgb.LGBMClassifier()\n",
        "model_lgb_tuned = GridSearchCV(lgb_temp, params,scoring='roc_auc',n_jobs=-1,cv=5)\n",
        "model_lgb_tuned.fit(x_train,y_train)\n",
        "model_lgb = lgb.LGBMClassifier(**model_lgb_tuned.best_params_)\n",
        "\n",
        "print(model_lgb_tuned.best_params_)\n",
        "print('{}\\tEnd_time\\n####################################################'.format(datetime.datetime.now().strftime('%H:%M')))"
      ],
      "execution_count": 17,
      "outputs": [
        {
          "output_type": "stream",
          "text": [
            "####################################################\n",
            "02:44\\start_time\n",
            "{'bagging_fraction': 0.9, 'bagging_freq': 1, 'boosting_type': 'gbdt', 'feature_fraction': 0.4, 'learning_rate': 0.1, 'max_depth': 5, 'metric': 'auc', 'n_estimators': 300, 'objective': 'binary'}\n",
            "02:44\tEnd_time\n",
            "####################################################\n"
          ],
          "name": "stdout"
        }
      ]
    },
    {
      "cell_type": "markdown",
      "metadata": {
        "id": "qIsDR0_xZ4hr",
        "colab_type": "text"
      },
      "source": [
        "## Use Cross Validation to Compare the Performance and Stacking the Models\n",
        "\n",
        "We have just tuning the hyper-parameters for Xgboost and LightGBM. In this section, we use cross validation to compare the performance of different models and stacking the efficient ones. We use area under the ROC curve (AUC) as the evaluation criterion. "
      ]
    },
    {
      "cell_type": "code",
      "metadata": {
        "colab_type": "code",
        "id": "ivyXJ6XQkChh",
        "colab": {
          "base_uri": "https://localhost:8080/",
          "height": 238
        },
        "outputId": "197e7d0c-9018-477c-ff20-0d0c280a0258"
      },
      "source": [
        "%%time\n",
        "#cross validation to Compare the Performance and Stacking the Models\n",
        "from sklearn.model_selection import KFold,cross_val_score\n",
        "from mlxtend.classifier import StackingClassifier\n",
        "\n",
        "#Validation function\n",
        "n_folds = 5\n",
        "\n",
        "models = {\n",
        "    'Logistic':model_lr,\n",
        "    'Lightgbm':model_lgb,\n",
        "    'XGBoost':model_xgb,\n",
        "    #'Random forest':model_rf  #random forest is time consuming\n",
        "    }\n",
        "\n",
        "for model_ind, model_fn in models.items():\n",
        "    print('Fitting:\\t{}'.format(model_ind))\n",
        "    #model_fn.fit(x_train, y_train)\n",
        "    \n",
        "    #cross validation\n",
        "    kf = KFold(n_folds, shuffle=True, random_state=42).get_n_splits(x_train)\n",
        "    auc= cross_val_score(model_fn, x_train, y_train, scoring='roc_auc', cv = kf)    \n",
        "    \n",
        "    print('Done! Error:\\t{}\\n'.format(auc.mean()))\n",
        "\n",
        "#combine the model together(stacking)\n",
        "lr = LogisticRegression()\n",
        "averaged_models=StackingClassifier(classifiers=[model_lgb, model_xgb], \n",
        "                                   use_probas=True,average_probas=True,meta_classifier=lr)\n",
        "\n",
        "kf = KFold(n_folds, shuffle=True, random_state=42).get_n_splits(x_train)\n",
        "auc= cross_val_score(averaged_models, x_train, y_train, scoring='roc_auc', cv = kf)\n",
        "score =auc.mean()\n",
        "print(\" Averaged base models score: \\t{}\\n\".format(score))\n"
      ],
      "execution_count": 18,
      "outputs": [
        {
          "output_type": "stream",
          "text": [
            "Fitting:\tLogistic\n",
            "Done! Error:\t0.8153528941694435\n",
            "\n",
            "Fitting:\tLightgbm\n",
            "Done! Error:\t0.9777186272858966\n",
            "\n",
            "Fitting:\tXGBoost\n",
            "Done! Error:\t0.9436455505051619\n",
            "\n",
            " Averaged base models score: \t0.9706726373757417\n",
            "\n",
            "CPU times: user 25.6 s, sys: 5.62 s, total: 31.2 s\n",
            "Wall time: 26.9 s\n"
          ],
          "name": "stdout"
        }
      ]
    },
    {
      "cell_type": "markdown",
      "metadata": {
        "colab_type": "text",
        "id": "IMQ83x-HkOUV"
      },
      "source": [
        "Note that the result will be slightly outperform than real because we use the median value from disenroll members to fill the missing part for features ('EDCost', 'EDCount', 'IPCost', 'IPCount'). It bring extra information when we use the cross validation. "
      ]
    },
    {
      "cell_type": "markdown",
      "metadata": {
        "id": "vjgSh44_mXxq",
        "colab_type": "text"
      },
      "source": [
        "# Evaluation and Further Discussion\n",
        "\n",
        "In this section, we use the reserved testing dataset to evaluate our final model. \n"
      ]
    },
    {
      "cell_type": "code",
      "metadata": {
        "colab_type": "code",
        "id": "hu7cMpylkCkM",
        "colab": {
          "base_uri": "https://localhost:8080/",
          "height": 34
        },
        "outputId": "30f898c1-96e2-4f3e-db18-6ea4919f5c3d"
      },
      "source": [
        "averaged_models.fit(x_train, y_train)\n",
        "y_test_pred_prob=averaged_models.predict_proba(x_test)[:,1]\n",
        "print('The value of AUC for the testing sample is '+str(roc_auc_score(y_test,y_test_pred_prob)))"
      ],
      "execution_count": 19,
      "outputs": [
        {
          "output_type": "stream",
          "text": [
            "The value of AUC for the testing sample is 0.97228550237786\n"
          ],
          "name": "stdout"
        }
      ]
    },
    {
      "cell_type": "markdown",
      "metadata": {
        "id": "RwT-XEDcmG10",
        "colab_type": "text"
      },
      "source": [
        "We can also calculate the precision(the propotion of actual position among all claimed positive) and recall(the propotion of claimed positive among all actual positive) of the classification with given threshold."
      ]
    },
    {
      "cell_type": "code",
      "metadata": {
        "id": "9vtgTt36hQ1v",
        "colab_type": "code",
        "colab": {
          "base_uri": "https://localhost:8080/",
          "height": 68
        },
        "outputId": "7c693f54-198c-4312-bcdc-ad904cb626f6"
      },
      "source": [
        "threshold=0.5\n",
        "y_pred=y_test_pred_prob>threshold\n",
        "print('When choosing the threshold as '+ str(threshold)+ ',')\n",
        "print('the precision is '+str(precision_score(y_test,y_pred)))\n",
        "print('the recall is '+ str(recall_score(y_test,y_pred)))"
      ],
      "execution_count": 20,
      "outputs": [
        {
          "output_type": "stream",
          "text": [
            "When choosing the threshold as 0.5,\n",
            "the precision is 0.8850350740452065\n",
            "the recall is 0.780949105914718\n"
          ],
          "name": "stdout"
        }
      ]
    },
    {
      "cell_type": "markdown",
      "metadata": {
        "id": "qQMqjArFZ99T",
        "colab_type": "text"
      },
      "source": [
        "## Feature Importance\n",
        "\n",
        "We can also consider the importance of different features when we use them in the model. We calculate it under the lightGBM model and use gain as the criterion to measure the importance.\n"
      ]
    },
    {
      "cell_type": "code",
      "metadata": {
        "colab_type": "code",
        "id": "mk4B1QK4loyE",
        "colab": {
          "base_uri": "https://localhost:8080/",
          "height": 295
        },
        "outputId": "ef89ecfe-6900-473b-a937-93eeaef1d5fc"
      },
      "source": [
        "#feature importance\n",
        "lgb_reg = model_lgb.fit(x_train,y_train)\n",
        "ax = lgb.plot_importance(lgb_reg,  max_num_features=10, height = 0.5,importance_type='gain')\n",
        "plt.show()"
      ],
      "execution_count": 21,
      "outputs": [
        {
          "output_type": "display_data",
          "data": {
            "image/png": "[encoded data removed]",
            "text/plain": [
              "<Figure size 432x288 with 1 Axes>"
            ]
          },
          "metadata": {
            "tags": [],
            "needs_background": "light"
          }
        }
      ]
    },
    {
      "cell_type": "markdown",
      "metadata": {
        "id": "WUsUlyzzpB-D",
        "colab_type": "text"
      },
      "source": [
        "From the output of feature importance, we see that the feature 'EDCost', 'EDCount' and 'Tenure' contain most information to identify disenrolled member. The reseult is consistent to the situation that the distribution of these feature are different between enrollment group and disenrollment group. "
      ]
    },
    {
      "cell_type": "markdown",
      "metadata": {
        "colab_type": "text",
        "id": "yu1kxTmjxH7m"
      },
      "source": [
        "## Further research\n",
        "\n",
        "If there is a dramatic increase in the cost for this plan, then we need to identify the involuntary disenrolled members and analyze their characteristics."
      ]
    }
  ]
}